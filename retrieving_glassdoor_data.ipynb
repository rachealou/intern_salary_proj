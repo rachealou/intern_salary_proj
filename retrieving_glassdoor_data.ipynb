{
 "cells": [
  {
   "cell_type": "code",
   "execution_count": 1,
   "metadata": {},
   "outputs": [
    {
     "ename": "ModuleNotFoundError",
     "evalue": "No module named 'data_collecting'",
     "output_type": "error",
     "traceback": [
      "\u001b[1;31m---------------------------------------------------------------------------\u001b[0m",
      "\u001b[1;31mModuleNotFoundError\u001b[0m                       Traceback (most recent call last)",
      "\u001b[1;32m<ipython-input-1-c1424535d2eb>\u001b[0m in \u001b[0;36m<module>\u001b[1;34m\u001b[0m\n\u001b[0;32m      1\u001b[0m \u001b[1;32mimport\u001b[0m \u001b[0mpandas\u001b[0m \u001b[1;32mas\u001b[0m \u001b[0mpd\u001b[0m\u001b[1;33m\u001b[0m\u001b[1;33m\u001b[0m\u001b[0m\n\u001b[1;32m----> 2\u001b[1;33m \u001b[1;32mimport\u001b[0m \u001b[0mdata_collecting\u001b[0m \u001b[1;32mas\u001b[0m \u001b[0mdc\u001b[0m\u001b[1;33m\u001b[0m\u001b[1;33m\u001b[0m\u001b[0m\n\u001b[0m",
      "\u001b[1;31mModuleNotFoundError\u001b[0m: No module named 'data_collecting'"
     ]
    }
   ],
   "source": [
    "import pandas as pd\n",
    "import data_collecting as dc"
   ]
  },
  {
   "cell_type": "code",
   "execution_count": 8,
   "metadata": {},
   "outputs": [
    {
     "name": "stdout",
     "output_type": "stream",
     "text": [
      "                                           Job Title  Salary Estimate  \\\n",
      "0           Data Analyst/Support Analyst (Bilingual)               -1   \n",
      "1                              Data Analytics Intern               -1   \n",
      "2                                       Data Analyst               -1   \n",
      "3                   Data Scientist Intern (4 months)               -1   \n",
      "4                              Data Scientist Intern               -1   \n",
      "5  2021 Research Intern – Data Science & Machine ...               -1   \n",
      "6                       Data Science Graduate Intern               -1   \n",
      "7                                       Data Analyst               -1   \n",
      "8  Spécialiste des données stagiaire (Été 2021) -...               -1   \n",
      "9                                       Data Analyst               -1   \n",
      "\n",
      "                                     Job Description  Rating  \\\n",
      "0  Who We Are Looking For:\\nResponsibilities for ...    -1.0   \n",
      "1  Data Analytics Intern - 00TVR\\nDescription\\nCo...     4.1   \n",
      "2  Be a part of a dynamic and growing team at Spe...    -1.0   \n",
      "3  Introduction\\nAt IBM, work is more than a job ...     3.9   \n",
      "4  Guavus, a Thales company, is seeking a Data Sc...     2.8   \n",
      "5  Our Company\\n\\nChanging the world through digi...     4.3   \n",
      "6  Auto req ID: 213045BR\\nJob Description\\nWe are...     3.9   \n",
      "7  Data Analyst (req6086)\\nDepartment: Informatio...     4.1   \n",
      "8  Nuance est à la fois précurseur et leader dans...     3.6   \n",
      "9  At Hopper, we’re on a mission to build the mos...     3.5   \n",
      "\n",
      "                           Company Name     Location  Headquarters  \\\n",
      "0                           Motoinsight      Toronto            -1   \n",
      "1                   ConocoPhillips\\n4.1      Calgary            -1   \n",
      "2  Special Risk Insurance Managers Ltd.      Langley            -1   \n",
      "3                              IBM\\n3.9  Mississauga            -1   \n",
      "4                           Guavus\\n2.8     Montreal            -1   \n",
      "5                            Adobe\\n4.3       Canada            -1   \n",
      "6                          PepsiCo\\n3.9      Windsor            -1   \n",
      "7       University of Saskatchewan\\n4.1    Saskatoon            -1   \n",
      "8                           Nuance\\n3.6     Montreal            -1   \n",
      "9                           Hopper\\n3.5       Canada            -1   \n",
      "\n",
      "                      Size  Founded               Type of ownership  \\\n",
      "0                       -1       -1                              -1   \n",
      "1         10000+ Employees       -1                Company - Public   \n",
      "2                       -1       -1                              -1   \n",
      "3         10000+ Employees     1911                Company - Public   \n",
      "4     201 to 500 Employees     2006  Subsidiary or Business Segment   \n",
      "5         10000+ Employees     1982                Company - Public   \n",
      "6         10000+ Employees     1965                Company - Public   \n",
      "7  5001 to 10000 Employees     1907            College / University   \n",
      "8  5001 to 10000 Employees     1992                Company - Public   \n",
      "9    501 to 1000 Employees     2007               Company - Private   \n",
      "\n",
      "                                  Industry                        Sector  \\\n",
      "0                                       -1                            -1   \n",
      "1       Oil & Gas Exploration & Production  Oil, Gas, Energy & Utilities   \n",
      "2                                       -1                            -1   \n",
      "3                              IT Services        Information Technology   \n",
      "4  Enterprise Software & Network Solutions        Information Technology   \n",
      "5             Computer Hardware & Software        Information Technology   \n",
      "6            Food & Beverage Manufacturing                 Manufacturing   \n",
      "7                  Colleges & Universities                     Education   \n",
      "8             Computer Hardware & Software        Information Technology   \n",
      "9                          Travel Agencies              Travel & Tourism   \n",
      "\n",
      "                    Revenue  Competitors  \n",
      "0                        -1           -1  \n",
      "1        $10+ billion (USD)           -1  \n",
      "2                        -1           -1  \n",
      "3        $10+ billion (USD)           -1  \n",
      "4  $25 to $50 million (USD)           -1  \n",
      "5   $5 to $10 billion (USD)           -1  \n",
      "6        $10+ billion (USD)           -1  \n",
      "7    $1 to $2 billion (USD)           -1  \n",
      "8    $1 to $2 billion (USD)           -1  \n",
      "9  Unknown / Non-Applicable           -1  \n"
     ]
    }
   ],
   "source": [
    "df = pd.read_csv(\"C:\\\\Users\\\\rache\\\\Documents\\\\intern_salary_proj\\glassdoor_jobs.csv\")\n",
    "print(df)\n",
    "# C:\\Users\\rache\\Documents\\intern_salary_proj"
   ]
  },
  {
   "cell_type": "code",
   "execution_count": 13,
   "metadata": {},
   "outputs": [],
   "source": [
    "import pandas as pd\n",
    "import data_collecting as dc"
   ]
  },
  {
   "cell_type": "code",
   "execution_count": null,
   "metadata": {},
   "outputs": [],
   "source": []
  }
 ],
 "metadata": {
  "kernelspec": {
   "display_name": "Python 3",
   "language": "python",
   "name": "python3"
  },
  "language_info": {
   "codemirror_mode": {
    "name": "ipython",
    "version": 3
   },
   "file_extension": ".py",
   "mimetype": "text/x-python",
   "name": "python",
   "nbconvert_exporter": "python",
   "pygments_lexer": "ipython3",
   "version": "3.8.5"
  }
 },
 "nbformat": 4,
 "nbformat_minor": 4
}
