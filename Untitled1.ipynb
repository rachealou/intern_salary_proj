{
 "cells": [
  {
   "cell_type": "code",
   "execution_count": 1,
   "metadata": {},
   "outputs": [
    {
     "name": "stdout",
     "output_type": "stream",
     "text": [
      " x out worked\n",
      "Progress: 0/50\n",
      "Progress: 1/50\n",
      "Progress: 2/50\n",
      "Progress: 3/50\n",
      "Progress: 4/50\n",
      "Progress: 5/50\n",
      "Progress: 6/50\n",
      "Progress: 7/50\n",
      "Progress: 8/50\n",
      "Progress: 9/50\n",
      "Progress: 10/50\n",
      "Progress: 11/50\n",
      "Progress: 12/50\n",
      "Progress: 13/50\n",
      "Progress: 14/50\n",
      "Progress: 15/50\n",
      "Progress: 16/50\n",
      "Progress: 17/50\n",
      "Progress: 18/50\n",
      "Progress: 19/50\n",
      "Progress: 20/50\n",
      "Progress: 21/50\n",
      "Progress: 22/50\n",
      "Progress: 23/50\n",
      "Progress: 24/50\n",
      "Progress: 25/50\n",
      "Progress: 26/50\n",
      "Progress: 27/50\n",
      "Progress: 28/50\n",
      "Progress: 29/50\n",
      " x out failed\n",
      "Progress: 30/50\n",
      "Progress: 31/50\n",
      "Progress: 32/50\n",
      "Progress: 33/50\n",
      "Progress: 34/50\n",
      "Progress: 35/50\n",
      "Progress: 36/50\n",
      "Progress: 37/50\n",
      "Progress: 38/50\n",
      "Progress: 39/50\n",
      "Progress: 40/50\n",
      "Progress: 41/50\n",
      "Progress: 42/50\n",
      "Progress: 43/50\n",
      "Progress: 44/50\n",
      "Progress: 45/50\n",
      "Progress: 46/50\n",
      "Progress: 47/50\n",
      "Progress: 48/50\n",
      "Progress: 49/50\n",
      "Progress: 50/50\n"
     ]
    }
   ],
   "source": [
    "import pandas as pd\n",
    "import data_collection as dc"
   ]
  },
  {
   "cell_type": "code",
   "execution_count": null,
   "metadata": {},
   "outputs": [],
   "source": []
  }
 ],
 "metadata": {
  "kernelspec": {
   "display_name": "Python 3",
   "language": "python",
   "name": "python3"
  },
  "language_info": {
   "codemirror_mode": {
    "name": "ipython",
    "version": 3
   },
   "file_extension": ".py",
   "mimetype": "text/x-python",
   "name": "python",
   "nbconvert_exporter": "python",
   "pygments_lexer": "ipython3",
   "version": "3.8.5"
  }
 },
 "nbformat": 4,
 "nbformat_minor": 4
}
